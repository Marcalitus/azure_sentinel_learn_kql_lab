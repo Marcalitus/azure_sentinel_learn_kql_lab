{
 "cells": [
  {
   "cell_type": "markdown",
   "metadata": {},
   "source": [
    "# Azure Sentinel: Learn the KQL you need for Azure Sentinel \n",
    "\n",
    "## This Jupyter Notebook is a KQL study material extracted from a webinar by [@Ofer_Shezaf](https://techcommunity.microsoft.com/t5/user/viewprofilepage/user-id/293879) entitled **Azure Sentinel: Learn the KQL you need for Azure Sentinel** This is part of a series of Webinars on [**Become an Azure Sentinel Ninja**](https://techcommunity.microsoft.com/t5/azure-sentinel/become-an-azure-sentinel-ninja-the-complete-level-400-training/ba-p/1246310)."
   ]
  },
  {
   "cell_type": "markdown",
   "metadata": {},
   "source": [
    "## Installing the library to perform KQL in Jupyter notebook"
   ]
  },
  {
   "cell_type": "code",
   "execution_count": null,
   "metadata": {},
   "outputs": [],
   "source": [
    "!pip3 install Kqlmagic --no-cache-dir --upgrade"
   ]
  },
  {
   "cell_type": "markdown",
   "metadata": {},
   "source": [
    "## Loading the KQLmagic library"
   ]
  },
  {
   "cell_type": "code",
   "execution_count": null,
   "metadata": {},
   "outputs": [],
   "source": [
    "%reload_ext Kqlmagic"
   ]
  },
  {
   "cell_type": "markdown",
   "metadata": {},
   "source": [
    "## Configuring some variables to facilitate the visualization"
   ]
  },
  {
   "cell_type": "code",
   "execution_count": null,
   "metadata": {},
   "outputs": [],
   "source": [
    "%config Kqlmagic.auto_dataframe=False\n",
    "%config Kqlmagic.auto_popup_schema=False\n",
    "%config Kqlmagic.display_limit=10"
   ]
  },
  {
   "cell_type": "markdown",
   "metadata": {},
   "source": [
    "## Loading other libraries for better visualization of results "
   ]
  },
  {
   "cell_type": "code",
   "execution_count": null,
   "metadata": {},
   "outputs": [],
   "source": [
    "import pandas as pd\n",
    "pd.options.display.max_columns = None\n",
    "pd.options.display.max_rows = False"
   ]
  },
  {
   "cell_type": "markdown",
   "metadata": {},
   "source": [
    "## Connecting to the Demo Log Analytics"
   ]
  },
  {
   "cell_type": "code",
   "execution_count": null,
   "metadata": {},
   "outputs": [],
   "source": [
    "%kql loganalytics://workspace='DEMO_WORKSPACE';appkey='DEMO_KEY'"
   ]
  },
  {
   "cell_type": "markdown",
   "metadata": {},
   "source": [
    "<h2 align='center'>===========================================================================<br>===========================================================================<br>HERE BEGINS KQL QUERIES EXTRACTED FROM THE WEBINAR</h2>\n"
   ]
  },
  {
   "cell_type": "markdown",
   "metadata": {},
   "source": [
    "## 'where' operator"
   ]
  },
  {
   "cell_type": "code",
   "execution_count": null,
   "metadata": {},
   "outputs": [],
   "source": [
    "%kql SecurityEvent | where * contains \"Kusto\""
   ]
  },
  {
   "cell_type": "code",
   "execution_count": null,
   "metadata": {},
   "outputs": [],
   "source": [
    "%kql SecurityEvent| where TimeGenerated> ago(1d)"
   ]
  },
  {
   "cell_type": "code",
   "execution_count": null,
   "metadata": {},
   "outputs": [],
   "source": [
    "%kql SecurityEvent| where TimeGenerated> ago(1h) and EventID== 4624"
   ]
  },
  {
   "cell_type": "code",
   "execution_count": null,
   "metadata": {},
   "outputs": [],
   "source": [
    "%kql SecurityEvent| where TimeGenerated > ago(1h)| where EventID == 4624| where AccountType =~ \"user\""
   ]
  },
  {
   "cell_type": "code",
   "execution_count": null,
   "metadata": {},
   "outputs": [],
   "source": [
    "%kql SecurityEvent | where EventID in (4624, 4625)"
   ]
  },
  {
   "cell_type": "code",
   "execution_count": null,
   "metadata": {},
   "outputs": [],
   "source": [
    "%kql VMConnection | where ipv4_is_match (DestinationIp, \"10.0.0.0/8\")"
   ]
  },
  {
   "cell_type": "markdown",
   "metadata": {},
   "source": [
    "## 'search' operator"
   ]
  },
  {
   "cell_type": "code",
   "execution_count": null,
   "metadata": {},
   "outputs": [],
   "source": [
    "%kql search \"10.1.5.5\""
   ]
  },
  {
   "cell_type": "code",
   "execution_count": null,
   "metadata": {},
   "outputs": [],
   "source": [
    "%kql SecurityEvent | where TimeGenerated >= ago(1d) | search \"Guest\""
   ]
  },
  {
   "cell_type": "markdown",
   "metadata": {},
   "source": [
    "## 'extend' operator"
   ]
  },
  {
   "cell_type": "code",
   "execution_count": null,
   "metadata": {},
   "outputs": [],
   "source": [
    "%kql SecurityEvent | extend ComputerNameLength = strlen(Computer)"
   ]
  },
  {
   "cell_type": "code",
   "execution_count": null,
   "metadata": {},
   "outputs": [],
   "source": [
    "%%kql Perf\n",
    "|where CounterName == \"Free Megabytes\"\n",
    "|where InstanceName == \"C:\"\n",
    "|extend FreeKB = CounterValue * 1000\n",
    "|extend FreeGB = CounterValue / 1000"
   ]
  },
  {
   "cell_type": "code",
   "execution_count": null,
   "metadata": {},
   "outputs": [],
   "source": [
    "%%kql SecurityEvent\n",
    "| where EventID in ( 4624 , 4625 )\n",
    "| extend rgroup = extract(\"resourcegroups/(.*)/providers\",1,_ResourceId)"
   ]
  },
  {
   "cell_type": "code",
   "execution_count": null,
   "metadata": {},
   "outputs": [],
   "source": [
    "%%kql SecurityEvent\n",
    "| where EventID in ( 4624 , 4625 )\n",
    "| extend rgroup = split(_ResourceId,\"/\",4)[0]"
   ]
  },
  {
   "cell_type": "code",
   "execution_count": null,
   "metadata": {},
   "outputs": [],
   "source": [
    "%%kql SecurityEvent\n",
    "| where EventID in ( 4624 , 4625 )\n",
    "| parse _ResourceId with \"/subscription/\" sub \"/resourcegroups/\" rgroup \"/providers\" *"
   ]
  },
  {
   "cell_type": "markdown",
   "metadata": {},
   "source": [
    "## A real-world example: TOR usage detection\n",
    "from: https://github.com/Azure/Azure-Sentinel/blob/master/Detections/Syslog/squid_tor_proxies.yaml"
   ]
  },
  {
   "cell_type": "code",
   "execution_count": null,
   "metadata": {},
   "outputs": [],
   "source": [
    "%%kql \n",
    "let timeframe = 1d;\n",
    "let DomainList = dynamic([\"tor2web.org\", \"tor2web.com\", \"torlink.co\", \"onion.to\", \"onion.ink\", \"onion.cab\", \"onion.nu\", \"onion.link\", \n",
    "  \"onion.it\", \"onion.city\", \"onion.direct\", \"onion.top\", \"onion.casa\", \"onion.plus\", \"onion.rip\", \"onion.dog\", \"tor2web.fi\", \n",
    "  \"tor2web.blutmagie.de\", \"onion.sh\", \"onion.lu\", \"onion.pet\", \"t2w.pw\", \"tor2web.ae.org\", \"tor2web.io\", \"tor2web.xyz\", \"onion.lt\", \n",
    "  \"s1.tor-gateways.de\", \"s2.tor-gateways.de\", \"s3.tor-gateways.de\", \"s4.tor-gateways.de\", \"s5.tor-gateways.de\", \"hiddenservice.net\"]); \n",
    "//\n",
    "Syslog\n",
    "| where TimeGenerated >= ago(timeframe)\n",
    "| where ProcessName contains \"squid\" \n",
    "| extend HTTP_Status_Code = extract(\"(TCP_(([A-Z]+)(_[A-Z]+)*)|UDP_(([A-Z]+)(_[A-Z]+)*))/([0-9]{3})\",8,SyslogMessage),Domain = extract(\"(([A-Z]+ [a-z]{4,5}:\\\\/\\\\/)|[A-Z]+ )([^ :\\\\/]*)\",3,SyslogMessage)\n",
    "| where HTTP_Status_Code == \"200\"\n",
    "| where Domain contains \".\"\n",
    "| where Domain has_any (DomainList)"
   ]
  },
  {
   "cell_type": "markdown",
   "metadata": {},
   "source": [
    "## Lab #1: Filtering\n",
    "Find all Windows logon events starting 2 weeks ago until 1 week ago that occured on a computer with name which starts with \"C\"."
   ]
  },
  {
   "cell_type": "code",
   "execution_count": null,
   "metadata": {},
   "outputs": [],
   "source": [
    "%%kql \n",
    "SecurityEvent\n",
    "| where TimeGenerated between (ago(14d) .. ago(7d))\n",
    "| where EventID == 4624 //\"An account was successfully logged on\" more info at https://www.ultimatewindowssecurity.com/securitylog/encyclopedia/event.aspx?eventID=4624\n",
    "| where Computer startswith \"C\""
   ]
  },
  {
   "cell_type": "markdown",
   "metadata": {},
   "source": [
    "## 'summarize' command"
   ]
  },
  {
   "cell_type": "code",
   "execution_count": null,
   "metadata": {},
   "outputs": [],
   "source": [
    "%kql SecurityEvent | summarize count() by Computer"
   ]
  },
  {
   "cell_type": "code",
   "execution_count": null,
   "metadata": {},
   "outputs": [],
   "source": [
    "%%kql\n",
    "WindowsFirewall\n",
    "| where CommunicationDirection == \"SEND\" \n",
    "| where FirewallAction == \"ALLOW\"\n",
    "| summarize dcount(SourceIP)"
   ]
  },
  {
   "cell_type": "code",
   "execution_count": null,
   "metadata": {},
   "outputs": [],
   "source": [
    "%%kql\n",
    "SecurityEvent\n",
    "| where TimeGenerated > ago(1h)\n",
    "| where EventID == 4624\n",
    "| summarize count() by AccountType, Computer"
   ]
  },
  {
   "cell_type": "markdown",
   "metadata": {},
   "source": [
    "## Lab #2: analysis\n",
    "Find how many times each process ran per computer. Hints and guideline: (1) Event 4688 logs process creation; (2) which field represent the processes created and which the computer on which it was ran?"
   ]
  },
  {
   "cell_type": "code",
   "execution_count": null,
   "metadata": {},
   "outputs": [],
   "source": [
    "%%kql\n",
    "SecurityEvent\n",
    "| where EventID == 4688 //\"A new process has been created\"\n",
    "| summarize count() by NewProcessName, Computer"
   ]
  },
  {
   "cell_type": "markdown",
   "metadata": {},
   "source": [
    "## Variants and add-ons to summarize"
   ]
  },
  {
   "cell_type": "code",
   "execution_count": null,
   "metadata": {},
   "outputs": [],
   "source": [
    "%kql SecurityEvent | distinct Computer, Account"
   ]
  },
  {
   "cell_type": "code",
   "execution_count": null,
   "metadata": {},
   "outputs": [],
   "source": [
    "%kql SecurityEvent | where EventID == 4624 | count"
   ]
  },
  {
   "cell_type": "code",
   "execution_count": null,
   "metadata": {},
   "outputs": [],
   "source": [
    "%kql SecurityEvent | where EventID == 4624 | order by Account"
   ]
  },
  {
   "cell_type": "code",
   "execution_count": null,
   "metadata": {},
   "outputs": [],
   "source": [
    "%kql SecurityEvent | top 10 by TimeGenerated desc"
   ]
  },
  {
   "cell_type": "markdown",
   "metadata": {},
   "source": [
    "## 'order by' exercise"
   ]
  },
  {
   "cell_type": "code",
   "execution_count": null,
   "metadata": {},
   "outputs": [],
   "source": [
    "%%kql\n",
    "SecurityAlert\n",
    "| where TimeGenerated > ago(7d) \n",
    "| extend severityOrder = case (\n",
    "    AlertSeverity == \"High\", 3, \n",
    "    AlertSeverity == \"Medium\", 2, \n",
    "    AlertSeverity == \"Low\", 1, \n",
    "    AlertSeverity == \"Informational\", 0, \n",
    "    -1)\n",
    "| order by severityOrder\n",
    "| project-away severityOrder"
   ]
  },
  {
   "cell_type": "markdown",
   "metadata": {},
   "source": [
    "## 'summarize' as filter: arg_min(), arg_max()"
   ]
  },
  {
   "cell_type": "code",
   "execution_count": null,
   "metadata": {},
   "outputs": [],
   "source": [
    "%%kql\n",
    "WindowsFirewall\n",
    "| where TimeGenerated > ago(7d)\n",
    "| summarize arg_max(TimeGenerated, *) by SourceIP"
   ]
  },
  {
   "cell_type": "markdown",
   "metadata": {},
   "source": [
    "## Quiz #1\n",
    "\n",
    "What is the difference between the following queries?\n",
    "\n",
    "```\n",
    " SecurityEvent\n",
    "| summarize arg_max(TimeGenerated, *) by Account \n",
    "| where EventID == \"4624\"\n",
    "| count\n",
    "```\n",
    "and \n",
    "```\n",
    "SecurityEvent\n",
    "| where EventID == \"4624\"\n",
    "| summarize arg_max(TimeGenerated, *) by Account \n",
    "| count\n",
    "```\n",
    " "
   ]
  },
  {
   "cell_type": "code",
   "execution_count": null,
   "metadata": {},
   "outputs": [],
   "source": [
    "%%kql SecurityEvent\n",
    "| summarize arg_max(TimeGenerated, *) by Account \n",
    "| where EventID == \"4624\"\n",
    "| count"
   ]
  },
  {
   "cell_type": "code",
   "execution_count": null,
   "metadata": {},
   "outputs": [],
   "source": [
    "%%kql SecurityEvent\n",
    "| where EventID == \"4624\"\n",
    "| summarize arg_max(TimeGenerated, *) by Account \n",
    "| count"
   ]
  },
  {
   "cell_type": "markdown",
   "metadata": {},
   "source": [
    "**ANSWER:** The line 2 filters the last TimeGenerated per Account and then from the remaining lines it tries to get only the event 4624. The problem is that not all last operation of each account was the 4624. The second kql query gets the last time that an Account was associated to EventID 4624."
   ]
  },
  {
   "cell_type": "markdown",
   "metadata": {},
   "source": [
    "## Lab #3: analysis\n",
    "Find how source IPs from which traffic has been dropped on Windows machines more than 10 times in the last 7 days.\n",
    "\n",
    "Hints and guideline:\n",
    "- Connections to Windows machines are collected in the \"WindowsFirewall\"\n",
    "- What is the name of the field which specifies traffic direction and can help determine inbound connections?\n",
    "- What is the name of the field which specifies the firewall action and can help identify dropped connections?"
   ]
  },
  {
   "cell_type": "code",
   "execution_count": null,
   "metadata": {},
   "outputs": [],
   "source": [
    "%%kql WindowsFirewall\n",
    "|where TimeGenerated >= ago(7d)\n",
    "|where CommunicationDirection == 'RECEIVE'\n",
    "|where FirewallAction == 'DROP'\n",
    "|summarize c=count() by SourceIP\n",
    "|where c>=10 "
   ]
  },
  {
   "cell_type": "markdown",
   "metadata": {},
   "source": [
    "## A real-world example: password spray detection\n",
    "from: https://github.com/Azure/Azure-Sentinel/blob/master/Detections/SigninLogs/DisabledAccountSigninsAcrossManyApplications.yaml"
   ]
  },
  {
   "cell_type": "code",
   "execution_count": null,
   "metadata": {},
   "outputs": [],
   "source": [
    "%%kql \n",
    "let timeframe = 1d;\n",
    "let threshold = 3;\n",
    "SigninLogs\n",
    "| where TimeGenerated >= ago(timeframe) \n",
    "| where ResultType == \"50057\"\n",
    "| where ResultDescription =~ \"User account is disabled. The account has been disabled by an administrator.\"\n",
    "| summarize applicationCount = dcount(AppDisplayName) by UserPrincipalName, IPAddress\n",
    "| where applicationCount >= threshold"
   ]
  },
  {
   "cell_type": "markdown",
   "metadata": {},
   "source": [
    "# Prepare"
   ]
  },
  {
   "cell_type": "markdown",
   "metadata": {},
   "source": [
    "## 'project' operator"
   ]
  },
  {
   "cell_type": "code",
   "execution_count": null,
   "metadata": {},
   "outputs": [],
   "source": [
    "%kql SecurityEvent | project TimeGenerated, Computer"
   ]
  },
  {
   "cell_type": "code",
   "execution_count": null,
   "metadata": {},
   "outputs": [],
   "source": [
    "%kql SecurityEvent | project IsImportant = iff(Computer contains \"CEO\", true, false)"
   ]
  },
  {
   "cell_type": "markdown",
   "metadata": {},
   "source": [
    "## 'summarize' to prepare: make_list(), make_set()"
   ]
  },
  {
   "cell_type": "code",
   "execution_count": null,
   "metadata": {},
   "outputs": [],
   "source": [
    "%kql SecurityEvent | summarize make_set(Account) by Computer"
   ]
  },
  {
   "cell_type": "markdown",
   "metadata": {},
   "source": [
    "# Visualize"
   ]
  },
  {
   "cell_type": "markdown",
   "metadata": {},
   "source": [
    "## 'summarize': bin and time series"
   ]
  },
  {
   "cell_type": "code",
   "execution_count": null,
   "metadata": {},
   "outputs": [],
   "source": [
    "%%kql SecurityEvent\n",
    "|summarize count() by bin(TimeGenerated, 1h)\n",
    "|render timechart"
   ]
  },
  {
   "cell_type": "code",
   "execution_count": null,
   "metadata": {},
   "outputs": [],
   "source": [
    "%%kql SecurityEvent \n",
    "| where TimeGenerated > ago(7d) \n",
    "| summarize count() by bin(TimeGenerated, 1d)\n",
    "| render timechart"
   ]
  },
  {
   "cell_type": "code",
   "execution_count": null,
   "metadata": {},
   "outputs": [],
   "source": [
    "%%kql VMConnection\n",
    "| summarize count() by SourceIp \n",
    "| sort by count_ desc \n",
    "| render barchart"
   ]
  },
  {
   "cell_type": "markdown",
   "metadata": {},
   "source": [
    "## Lab #4: visualization\n",
    "\n",
    "Chart the rate of process creation on all domain controllers.\n",
    "\n",
    "Hints and guideline:\n",
    "- Process creation is Windows event 4688\n",
    "- Domain controller names start with \"DC\"\n",
    "- Create multiple charts by aggregating additional more than one field"
   ]
  },
  {
   "cell_type": "code",
   "execution_count": null,
   "metadata": {},
   "outputs": [],
   "source": [
    "%%kql SecurityEvent\n",
    "| where Computer startswith \"DC\"\n",
    "| where EventID == \"4688\"\n",
    "| summarize count() by Computer, bin(TimeGenerated, 1h) \n",
    "| render timechart"
   ]
  },
  {
   "cell_type": "markdown",
   "metadata": {},
   "source": [
    "## Unrelated 'countif' operator example "
   ]
  },
  {
   "cell_type": "code",
   "execution_count": null,
   "metadata": {},
   "outputs": [],
   "source": [
    "%%kql \n",
    "SecurityEvent \n",
    "| summarize AdminSuccessfullLogons = countif(Account contains \"Admin\" and EventID == 4624), \n",
    "            AdminFailedLogons = countif(Account contains \"Admin\" and EventID == 4625)"
   ]
  },
  {
   "cell_type": "markdown",
   "metadata": {},
   "source": [
    "## Lab #5: visualization\n",
    "\n",
    "Render graph of successful vs failed logons over the last 7days, use alias for the legend (\"Success\", \"Failed\")\n",
    "\n",
    "Hints and guideline:\n",
    "- In the Security Event table, successful logon has eventid 4624, and failed logon event id 4625.\n",
    "- Check if aggregation function countif can help."
   ]
  },
  {
   "cell_type": "code",
   "execution_count": null,
   "metadata": {},
   "outputs": [],
   "source": [
    "%%kql\n",
    "SecurityEvent \n",
    "| summarize Success=countif(EventID == 4624), \n",
    "            Failed=countif(EventID == 4625) by bin(TimeGenerated, 1h)\n",
    "| render timechart"
   ]
  },
  {
   "cell_type": "markdown",
   "metadata": {},
   "source": [
    "# Advanced Topics"
   ]
  },
  {
   "cell_type": "markdown",
   "metadata": {},
   "source": [
    "## 'let' statement: declare and reuse variables"
   ]
  },
  {
   "cell_type": "code",
   "execution_count": null,
   "metadata": {},
   "outputs": [],
   "source": [
    "%%kql \n",
    "let timeOffset = 7d;\n",
    "let discardEventId = 4688;\n",
    "SecurityEvent\n",
    "| where TimeGenerated > ago(timeOffset*2) and TimeGenerated < ago(timeOffset) \n",
    "| where EventID != discardEventId"
   ]
  },
  {
   "cell_type": "markdown",
   "metadata": {},
   "source": [
    "## 'let' statement: declare dynamic tables or lists"
   ]
  },
  {
   "cell_type": "code",
   "execution_count": null,
   "metadata": {},
   "outputs": [],
   "source": [
    "%%kql\n",
    "let suspiciousAccounts = datatable(account: string) [ \n",
    "    @\"\\administrator\",\n",
    "    @\"NT AUTHORITY\\SYSTEM\"];\n",
    "SecurityEvent \n",
    "| where Account in (suspiciousAccounts) "
   ]
  },
  {
   "cell_type": "code",
   "execution_count": null,
   "metadata": {},
   "outputs": [],
   "source": [
    "%%kql\n",
    "let LowActivityAccounts = SecurityEvent\n",
    "|summarize cnt = count() by Account\n",
    "| where cnt <10;\n",
    "//\n",
    "LowActivityAccounts\n",
    "| where Account contains \"Mal\""
   ]
  },
  {
   "cell_type": "markdown",
   "metadata": {},
   "source": [
    "## 'materialize' statement"
   ]
  },
  {
   "cell_type": "code",
   "execution_count": null,
   "metadata": {},
   "outputs": [],
   "source": [
    "%%kql\n",
    "let LowActivityAccounts = materialize(SecurityEvent\n",
    "                                        | summarize cnt = count() by Account | where cnt < 10);\n",
    "LowActivityAccounts\n",
    "| where Account contains \"Mal\"\n",
    "| union (LowActivityAccounts | where Account contains \"Rep\")"
   ]
  },
  {
   "cell_type": "markdown",
   "metadata": {},
   "source": [
    "## 'union' operator"
   ]
  },
  {
   "cell_type": "code",
   "execution_count": null,
   "metadata": {},
   "outputs": [],
   "source": [
    "%%kql\n",
    "SecurityEvent\n",
    "| union (WindowsFirewall | where CommunicationDirection == \"RECEIVE\")"
   ]
  },
  {
   "cell_type": "markdown",
   "metadata": {},
   "source": [
    "## Lab #6: union\n",
    "Find the ratio of alerts (in the SecurityAlert table) to events (in the SecurityEvent table) broken by day for the last week"
   ]
  },
  {
   "cell_type": "code",
   "execution_count": null,
   "metadata": {},
   "outputs": [],
   "source": [
    "%%kql\n",
    "SecurityAlert \n",
    "| union SecurityEvent \n",
    "| summarize SecurityAlerts = countif(Type == \"SecurityAlert\"), \n",
    "            SecurityEvents = countif(Type == \"SecurityEvent\") by bin (TimeGenerated, 24h)\n",
    "| extend Ratio = SecurityAlerts * 1.0 / SecurityEvents \n",
    "| project SecurityEvents , SecurityAlerts , Ratio"
   ]
  },
  {
   "cell_type": "markdown",
   "metadata": {},
   "source": [
    "## 'join' operator"
   ]
  },
  {
   "cell_type": "code",
   "execution_count": null,
   "metadata": {},
   "outputs": [],
   "source": [
    "%%kql\n",
    "SecurityEvent\n",
    "|join (SecurityAlert | where AlertSeverity == 'High'| extend Account = tostring(parse_json(ExtendedProperties).[\"User Name\"])\n",
    ") on Account"
   ]
  },
  {
   "cell_type": "markdown",
   "metadata": {},
   "source": [
    "## JSON exercise"
   ]
  },
  {
   "cell_type": "code",
   "execution_count": null,
   "metadata": {},
   "outputs": [],
   "source": [
    "%%kql\n",
    "SecurityAlert\n",
    "| extend ExtendedProperties = todynamic(ExtendedProperties) \n",
    "| extend ActionTaken = ExtendedProperties.ActionTaken\n",
    "| extend AttackerIP = ExtendedProperties[\"Attacker IP\"]"
   ]
  },
  {
   "cell_type": "code",
   "execution_count": null,
   "metadata": {},
   "outputs": [],
   "source": [
    "%%kql \n",
    "SecurityAlert\n",
    "| mv-expand entity = todynamic(Entities)"
   ]
  },
  {
   "cell_type": "code",
   "execution_count": null,
   "metadata": {},
   "outputs": [],
   "source": [
    "%%kql\n",
    "SecurityAlert\n",
    "| mv-apply entity = todynamic(Entities) on (\n",
    "    where entity.Type == \"account\"\n",
    "    | extend account = strcat (entity.NTDomain, \"\\\\\", entity.Name))"
   ]
  },
  {
   "cell_type": "markdown",
   "metadata": {},
   "source": [
    "## Lab #7\n",
    "Show for each account that has alerts, how many alerts and which Security Event types it had in the last 7 days.\n",
    "\n",
    "Hints and guideline:\n",
    "- Alerts in the SecurityAlert table keeps entities in a JSON array string. What is the name of this field?\n",
    "- Account is just one of the possible entity types in the array\n",
    "- Make sure that account has the same format in both the alerts and events table."
   ]
  },
  {
   "cell_type": "code",
   "execution_count": null,
   "metadata": {},
   "outputs": [],
   "source": [
    "%%kql\n",
    "SecurityAlert\n",
    "| mv-apply entity=todynamic(Entities) on (\n",
    "    where entity.Type == \"account\"\n",
    "    | extend Account = strcat(entity.NTDomain, \"\\\\\", entity.Name))\n",
    "| summarize dcount(SystemAlertId) by Account\n",
    "| join kind=leftouter ( SecurityEvent\n",
    "| summarize make_set(EventID) by Account ) on Account"
   ]
  }
 ],
 "metadata": {
  "kernelspec": {
   "display_name": "Python 3",
   "language": "python",
   "name": "python3"
  },
  "language_info": {
   "codemirror_mode": {
    "name": "ipython",
    "version": 3
   },
   "file_extension": ".py",
   "mimetype": "text/x-python",
   "name": "python",
   "nbconvert_exporter": "python",
   "pygments_lexer": "ipython3",
   "version": "3.7.6"
  }
 },
 "nbformat": 4,
 "nbformat_minor": 2
}
